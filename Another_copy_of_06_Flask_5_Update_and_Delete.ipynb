{
  "cells": [
    {
      "cell_type": "markdown",
      "metadata": {
        "id": "view-in-github",
        "colab_type": "text"
      },
      "source": [
        "<a href=\"https://colab.research.google.com/github/WaffleCollege/kawaharu/blob/main/Another_copy_of_06_Flask_5_Update_and_Delete.ipynb\" target=\"_parent\"><img src=\"https://colab.research.google.com/assets/colab-badge.svg\" alt=\"Open In Colab\"/></a>"
      ]
    },
    {
      "cell_type": "markdown",
      "metadata": {
        "id": "3_uWVRpy8jK-"
      },
      "source": []
    },
    {
      "cell_type": "code",
      "execution_count": null,
      "metadata": {
        "colab": {
          "base_uri": "https://localhost:8080/"
        },
        "id": "mJxNWy4zN7wm",
        "outputId": "9330ace3-299b-477c-d1fe-f0c387e2b279"
      },
      "outputs": [
        {
          "output_type": "stream",
          "name": "stdout",
          "text": [
            "Requirement already satisfied: flask in /usr/local/lib/python3.10/dist-packages (2.2.5)\n",
            "Collecting pyngrok\n",
            "  Downloading pyngrok-7.2.0-py3-none-any.whl.metadata (7.4 kB)\n",
            "Requirement already satisfied: Werkzeug>=2.2.2 in /usr/local/lib/python3.10/dist-packages (from flask) (3.0.4)\n",
            "Requirement already satisfied: Jinja2>=3.0 in /usr/local/lib/python3.10/dist-packages (from flask) (3.1.4)\n",
            "Requirement already satisfied: itsdangerous>=2.0 in /usr/local/lib/python3.10/dist-packages (from flask) (2.2.0)\n",
            "Requirement already satisfied: click>=8.0 in /usr/local/lib/python3.10/dist-packages (from flask) (8.1.7)\n",
            "Requirement already satisfied: PyYAML>=5.1 in /usr/local/lib/python3.10/dist-packages (from pyngrok) (6.0.2)\n",
            "Requirement already satisfied: MarkupSafe>=2.0 in /usr/local/lib/python3.10/dist-packages (from Jinja2>=3.0->flask) (2.1.5)\n",
            "Downloading pyngrok-7.2.0-py3-none-any.whl (22 kB)\n",
            "Installing collected packages: pyngrok\n",
            "Successfully installed pyngrok-7.2.0\n",
            "Mounted at /content/drive\n"
          ]
        }
      ],
      "source": [
        "#@title #1.　ngrokのauth_tokeを設定して前回の内容を実行[事前準備、設定]\n",
        "# 1,2 Flask, pyngrokのインストール\n",
        "!pip install flask pyngrok\n",
        "#  必要なモジュールのimport\n",
        "import os\n",
        "# flaskからFlaskクラスをインポート\n",
        "from flask import Flask\n",
        "# pyngrokからngrokモジュールとconfモジュールをインポート\n",
        "from pyngrok import ngrok, conf\n",
        "# 設定\n",
        "# ngrokトークンを設定\n",
        "conf.get_default().auth_token = \"2le8Ux0BM9M1s026Ue1ZWrxcsMq_2TDEygUxs3pK8bv6ppDV8\" #ここに自分のNgrokトークンを入れてください！！！！！\n",
        "\n",
        "# Googleドライブのマウント\n",
        "from google.colab import drive\n",
        "drive.mount('/content/drive')\n"
      ]
    },
    {
      "cell_type": "code",
      "execution_count": null,
      "metadata": {
        "id": "g0YSjgInyjaR"
      },
      "outputs": [],
      "source": [
        "#@title #2.データベースとデータの中身を用意する\n",
        "import sqlite3\n",
        "\n",
        "\n",
        "# データベースのテーブル（データを入れるための形のある箱）を用意する\n",
        "conn = sqlite3.connect('sample_db.sqlite')\n",
        "cursor = conn.cursor()\n",
        "cursor.execute('''\n",
        "CREATE TABLE blogs (\n",
        "    id INTEGER PRIMARY KEY,\n",
        "    title TEXT NOT NULL,\n",
        "    body TEXT NOT NULL,\n",
        "    user_name TEXT NOT NULL,\n",
        "    created_at TEXT NOT NULL DEFAULT (CURRENT_TIMESTAMP)\n",
        ")\n",
        "''')\n",
        "\n",
        "conn.commit()\n",
        "conn.close()\n",
        "\n"
      ]
    },
    {
      "cell_type": "code",
      "execution_count": null,
      "metadata": {
        "colab": {
          "base_uri": "https://localhost:8080/"
        },
        "id": "8ft2WcxBeVAM",
        "outputId": "2abe5c25-7e4b-4c89-9bbb-86fdd5aaa70f"
      },
      "outputs": [
        {
          "output_type": "stream",
          "name": "stdout",
          "text": [
            "Drive already mounted at /content/drive; to attempt to forcibly remount, call drive.mount(\"/content/drive\", force_remount=True).\n"
          ]
        }
      ],
      "source": [
        "from google.colab import drive\n",
        "drive.mount('/content/drive')"
      ]
    },
    {
      "cell_type": "markdown",
      "metadata": {
        "id": "26OQWbUN1E0V"
      },
      "source": [
        "# 3. テンプレートの更新\n",
        "\n",
        "\n",
        "\n",
        "*   home.html → そのまま\n",
        "*   blogs.html → 更新\n",
        "*   blog.html → 新規作成"
      ]
    },
    {
      "cell_type": "markdown",
      "metadata": {
        "id": "IIofha0tpJSh"
      },
      "source": [
        "# 3-1. drive/My Drive/flask_blog/templates/home.htmlはそのまま\n",
        "\n",
        "```\n",
        "<!DOCTYPE html>\n",
        "<html>\n",
        "  <link rel=\"stylesheet\" href=\"{{ url_for('static', filename='css/style.css')}}\">\n",
        "<head>\n",
        "</head>\n",
        "<body>\n",
        "    <header>\n",
        "      <h1>ミニブログをつくってみよう !</h1>\n",
        "    </header>\n",
        "    <a href=\"{{ url_for('blog_index')}}\">ブログ</a>\n",
        "</body>\n",
        "</html>\n",
        "```\n"
      ]
    },
    {
      "cell_type": "markdown",
      "metadata": {
        "id": "kMhbf8BgaERp"
      },
      "source": [
        "# 3-2. drive/My Drive/flask_blog/templates/blogs.htmlを更新\n",
        "\n",
        "リストに編集ページへのリンクをつけます\n",
        "\n",
        "```\n",
        "<!DOCTYPE html>\n",
        "<html>\n",
        "  <link rel=\"stylesheet\" href=\"{{ url_for('static', filename='css/style.css')}}\">\n",
        "<head>\n",
        "</head>\n",
        "<body>\n",
        "    <header>\n",
        "      <h1>ミニブログを作ってみよう</h1>\n",
        "    </header>\n",
        "    <div>\n",
        "    {% with messages = get_flashed_messages() %}\n",
        "      {% if messages %}\n",
        "      <ul class=flashes>\n",
        "      {% for message in messages %}\n",
        "        <li>{{ message }}</li>\n",
        "      {% endfor %}\n",
        "       </ul>\n",
        "       {% endif %}\n",
        "     {% endwith %}\n",
        "    </div>\n",
        "    <div>\n",
        "    <form\n",
        "    action=\"{{url_for('blog_create')}}\"\n",
        "    method=\"POST\"\n",
        "    novalidate=\"novalidate\"\n",
        "  >\n",
        "    <p>\n",
        "      <label for=\"title\">タイトル：</label><input type=\"text\" name=\"title\" />\n",
        "    </p>\n",
        "    <p>\n",
        "      <label for=\"user_name\">投稿者名：</label><input type=\"text\" name=\"user_name\" />\n",
        "    </p>\n",
        "    <p>\n",
        "      <label for=\"body\">内容：</label><textarea name=\"body\" cols=\"40\" rows=\"10\"></textarea>\n",
        "    </p>\n",
        "    <p><button type=\"submit\">送る</button></p>\n",
        "  </form>\n",
        "\n",
        "  </div>\n",
        "\n",
        "  <div>\n",
        "    <ul>\n",
        "      {% for blog in blogs %} <!-- ループさせてそれぞれ要素を取り出す -->\n",
        "      <li><a href=\"{{url_for('get_blog', id=blog[0])}}\">{{ blog[1] }}</a></li> <!-- ブログ編集画面へのリンク -->\n",
        "       {% endfor %}\n",
        "    </ul>\n",
        "  </div>\n",
        "</body>\n",
        "</html>\n",
        "```\n",
        "\n",
        "\n",
        "\n"
      ]
    },
    {
      "cell_type": "markdown",
      "metadata": {
        "id": "72TgCPhPDO8C"
      },
      "source": [
        "# 3-3. drive/My Drive/flask_blog/templates/blog.htmlを新規作成\n",
        "\n",
        "新しくファイルを作ります\n",
        "\n",
        "```\n",
        "<!DOCTYPE html>\n",
        "<html>\n",
        "  <link rel=\"stylesheet\" href=\"{{ url_for('static', filename='css/style.css')}}\">\n",
        "<head>\n",
        "</head>\n",
        "<body>\n",
        "    <header>\n",
        "      <h1>ミニブログを作ってみよう:ブログ詳細画面</h1>\n",
        "    </header>\n",
        "    <div>\n",
        "    {% with messages = get_flashed_messages() %}\n",
        "      {% if messages %}\n",
        "      <ul class=flashes>\n",
        "      {% for message in messages %}\n",
        "        <li>{{ message }}</li>\n",
        "      {% endfor %}\n",
        "       </ul>\n",
        "       {% endif %}\n",
        "     {% endwith %}\n",
        "    </div>\n",
        "    <div>\n",
        "    <form\n",
        "    action=\"{{url_for('update_blog', id=blog[0])}}\"\n",
        "    method=\"post\"\n",
        "    novalidate=\"novalidate\"\n",
        "  >\n",
        "    <input type=\"hidden\" name=\"_method\" value=\"PATCH\">\n",
        "    <p>\n",
        "      <label for=\"title\">タイトル：</label><input type=\"text\" name=\"title\" value={{blog[1]}} />\n",
        "    </p>\n",
        "    <p>\n",
        "      <label for=\"user_name\">投稿者名：</label><input type=\"text\" name=\"user_name\" value={{blog[3]}} />\n",
        "    </p>\n",
        "    <p>\n",
        "      <label for=\"body\">内容：</label><textarea name=\"body\" cols=\"40\" rows=\"10\"  >{{blog[2]}}</textarea>\n",
        "    </p>\n",
        "    <p><button type=\"submit\">送る</button></p>\n",
        "  </form>\n",
        "\n",
        "  </div>\n",
        "    <form\n",
        "    action=\"{{url_for('update_blog', id=blog[0])}}\"\n",
        "    method=\"post\"\n",
        "    novalidate=\"novalidate\"\n",
        "  >\n",
        "   <input type=\"hidden\" name=\"_method\" value=\"DELETE\">\n",
        "   <p><button type=\"submit\">削除</button></p>\n",
        "  </form>\n",
        "</body>\n",
        "</html>\n",
        "```"
      ]
    },
    {
      "cell_type": "markdown",
      "metadata": {
        "id": "EroYozlQ1h4f"
      },
      "source": [
        "ファイルがこの状態になっているはず![image.png](data:image/png;base64,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)"
      ]
    },
    {
      "cell_type": "code",
      "execution_count": null,
      "metadata": {
        "id": "OGdb0W_1wfWl"
      },
      "outputs": [],
      "source": [
        "#@title　#4.アプリケーションを初期化する/5.アプリケーションとデータベースを繋ぐための関数を用意する(前回と変わりなし)\n",
        "\n",
        "from flask import g, render_template, redirect, url_for\n",
        "\n",
        "\n",
        "# テンプレートと静的ファイルの置き場所を定数に代入\n",
        "TEMPLATE_PATH = 'drive/My Drive/flask_blog/templates'\n",
        "STATIC_PATH = 'drive/My Drive/flask_blog/static'\n",
        "# Flaskのインスタンスを作るときにそれを利用してファイルパスを設定する\n",
        "app = Flask(__name__, template_folder=TEMPLATE_PATH, static_folder=STATIC_PATH)\n",
        "\n",
        "\n",
        "#@title　#5.アプリケーションとデータベースを繋ぐための関数を用意する\n",
        "\n",
        "DATABASE = 'sample_db.sqlite'\n",
        "\n",
        "def get_db():\n",
        "    db = getattr(g, '_database', None)\n",
        "    if db is None:\n",
        "        db = g._database = sqlite3.connect(DATABASE)\n",
        "    return db\n",
        "\n",
        "@app.teardown_appcontext\n",
        "def close_connection(exception):\n",
        "    db = getattr(g, '_database', None)\n",
        "    if db is not None:\n",
        "        db.close()\n",
        "\n",
        "def query_db(query, args=(), one=False):\n",
        "    cur = get_db().execute(query, args)\n",
        "    rv = cur.fetchall()\n",
        "    cur.close()\n",
        "    return (rv[0] if rv else None) if one else rv\n",
        "\n",
        "def insert_or_delete_db(query, args=()):\n",
        "    get_db().execute(query, args)\n",
        "    get_db().commit()\n"
      ]
    },
    {
      "cell_type": "markdown",
      "metadata": {
        "id": "u0cUZGkPDlTn"
      },
      "source": [
        " # 6.アプリケーションでデータを読み出す+テンプレートにデータを渡すプログラミング"
      ]
    },
    {
      "cell_type": "code",
      "execution_count": null,
      "metadata": {
        "id": "PhXVJlAnu2Wj"
      },
      "outputs": [],
      "source": [
        "#@title #6-1. ルート/, GET /blogs 一覧画面（フォーム付き）, POST /blogs データ作成機能 （前回と同じ）\n",
        "\n",
        "\n",
        "from datetime import datetime, timedelta\n",
        "from zoneinfo import ZoneInfo\n",
        "from flask import g, render_template, redirect, url_for, request, flash, session\n",
        "\n",
        "#セッションを設定する\n",
        "app.secret_key = 'timestamp'\n",
        "app.permanent_session_lifetime = timedelta(days=5)\n",
        "# /（ルート）にアクセスしたら次に書く関数(home)を実行するという宣言\n",
        "@app.route(\"/\")\n",
        "def home():\n",
        "    return render_template('home.html')\n",
        "\n",
        "# /blogs にHTTPメソッドがGETでアクセスしたblog_index関数を実行する\n",
        "@app.get(\"/blogs\")\n",
        "def blog_index():\n",
        "   #データベースからデータを引き出す（配列の配列の形で帰ってくる）\n",
        "\n",
        "    blogs = query_db(\"SELECT * FROM blogs\")\n",
        "\n",
        "    # テンプレートにblogs変数を渡す\n",
        "    return render_template('blogs.html', blogs = blogs)\n",
        "\n",
        "# /blogs にHTTPメソッドがPOSTでアクセスしたblog_create関数を実行する\n",
        "@app.post(\"/blogs\")\n",
        "def blog_create():\n",
        "\n",
        "    # フォームの値を取得してバリデーションを行う\n",
        "    title = request.form[\"title\"]\n",
        "    user_name = request.form[\"user_name\"]\n",
        "    body = request.form[\"body\"]\n",
        "\n",
        "    is_valid = True\n",
        "    if not title:\n",
        "        flash(\"タイトルを入力してください。\")\n",
        "        is_valid = False\n",
        "\n",
        "    if not user_name:\n",
        "        flash(\"投稿者名を入力してください。\")\n",
        "        is_valid = False\n",
        "\n",
        "    if not body:\n",
        "        flash(\"本文を入力してください。\")\n",
        "        is_valid = False\n",
        "\n",
        "    # 値が足りてなければここで処理を止め、一覧に戻る\n",
        "    if not is_valid:\n",
        "        return redirect(url_for(\"blog_index\"))\n",
        "\n",
        "    # データベースに挿入するためのSQLを組み立てる\n",
        "    insert_sql =f\"\"\"\n",
        "    INSERT INTO blogs (title, user_name, body)\n",
        "    VALUES (?, ?, ?)\n",
        "    \"\"\"\n",
        "    # SQL文を実行してデータを登録\n",
        "    insert_or_delete_db(insert_sql, (title, user_name, body))\n",
        "\n",
        "\n",
        "    # 一覧にGETでリダイレクトする\n",
        "    return redirect(url_for(\"blog_index\"))\n"
      ]
    },
    {
      "cell_type": "code",
      "execution_count": null,
      "metadata": {
        "id": "SD-YguXVEadJ"
      },
      "outputs": [],
      "source": [
        "# @title 6-2 GET /blogs/:id 更新用フォーム、Post(気持ちはpatch) /blogs/:id 更新処理\n",
        "\n",
        "@app.get('/blogs/<string:id>')\n",
        "def get_blog(id):\n",
        "    blogs = query_db(\"SELECT * FROM blogs WHERE id = ?\", id)\n",
        "\n",
        "    # 指定されたidがなければ一覧に戻る\n",
        "    if not blogs:\n",
        "        return redirect(url_for(\"blog_index\"))\n",
        "\n",
        "    blog = blogs[0]\n",
        "    return render_template('blog.html', blog = blog)\n",
        "\n",
        "@app.post('/blogs/<string:id>')\n",
        "def update_blog(id):\n",
        "    blogs = query_db(\"SELECT * FROM blogs WHERE id = ?\", id)\n",
        "\n",
        "    # 指定されたidがなければ一覧に戻る\n",
        "    if not blogs:\n",
        "        return redirect(url_for(\"blog_index\"))\n",
        "\n",
        "    blog = blogs[0]\n",
        "    # 更新処理の場合\n",
        "    if request.form.get('_method') == 'PATCH':\n",
        "        # フォームの値を取得してバリデーションを行う\n",
        "        title = request.form[\"title\"]\n",
        "        user_name = request.form[\"user_name\"]\n",
        "        body = request.form[\"body\"]\n",
        "\n",
        "\n",
        "        is_valid = True\n",
        "        if not title:\n",
        "            flash(\"タイトルを入力してください。\")\n",
        "            is_valid = False\n",
        "\n",
        "        if not user_name:\n",
        "            flash(\"投稿者名を入力してください。\")\n",
        "            is_valid = False\n",
        "\n",
        "        if not body:\n",
        "            flash(\"本文を入力してください。\")\n",
        "            is_valid = False\n",
        "\n",
        "        # 値が足りてなければここで処理を止め、編集画面に戻る\n",
        "        if not is_valid:\n",
        "            return redirect(url_for(\"get_blog\", id=id))\n",
        "\n",
        "        # データベースに挿入するためのSQLを組み立てる\n",
        "        update_sql =f\"\"\"\n",
        "        UPDATE blogs SET title=?, user_name=?, body=?\n",
        "       WHERE id = ?\n",
        "        \"\"\"\n",
        "        # SQL文を実行してデータを更新\n",
        "        insert_or_delete_db(update_sql, (title, user_name, body, id))\n",
        "\n",
        "        flash(\"データを更新しました\")\n",
        "        # 編集画面にGETでリダイレクトする\n",
        "        return redirect(url_for(\"get_blog\", id=id))\n",
        "    elif request.form.get('_method') == 'DELETE':\n",
        "        delete_sql =f\"\"\"\n",
        "        DELETE FROM blogs\n",
        "        WHERE id = ?\n",
        "        \"\"\"\n",
        "        # SQL文を実行してデータを更新\n",
        "        insert_or_delete_db(delete_sql, (id))\n",
        "        # 一覧画面にGETでリダイレクトする\n",
        "        return redirect(url_for(\"blog_index\"))"
      ]
    },
    {
      "cell_type": "code",
      "execution_count": null,
      "metadata": {
        "colab": {
          "base_uri": "https://localhost:8080/"
        },
        "id": "S4IhqcmUy8X5",
        "outputId": "b617c9ee-56bf-4889-a08e-092770e12c90"
      },
      "outputs": [
        {
          "output_type": "stream",
          "name": "stdout",
          "text": [
            "ngrok URL: NgrokTunnel: \"https://ac4c-34-81-219-231.ngrok-free.app\" -> \"http://localhost:5000\"\n",
            " * Serving Flask app '__main__'\n",
            " * Debug mode: off\n"
          ]
        },
        {
          "output_type": "stream",
          "name": "stderr",
          "text": [
            "INFO:werkzeug:\u001b[31m\u001b[1mWARNING: This is a development server. Do not use it in a production deployment. Use a production WSGI server instead.\u001b[0m\n",
            " * Running on http://127.0.0.1:5000\n",
            "INFO:werkzeug:\u001b[33mPress CTRL+C to quit\u001b[0m\n",
            "WARNING:pyngrok.process.ngrok:t=2024-10-08T11:05:13+0000 lvl=warn msg=\"Stopping forwarder\" name=http-5000-567d8f30-3f30-4080-a121-55ed36ad4b80 acceptErr=\"failed to accept connection: Listener closed\"\n"
          ]
        }
      ],
      "source": [
        "#@title #7.アプリケーションを立ち上げる\n",
        "\n",
        "if __name__ == \"__main__\":\n",
        "    public_url = ngrok.connect(5000)\n",
        "    print(f\"ngrok URL: {public_url}\")\n",
        "    app.run(port=5000)"
      ]
    }
  ],
  "metadata": {
    "colab": {
      "provenance": [],
      "include_colab_link": true
    },
    "kernelspec": {
      "display_name": "Python 3",
      "name": "python3"
    },
    "language_info": {
      "name": "python"
    }
  },
  "nbformat": 4,
  "nbformat_minor": 0
}